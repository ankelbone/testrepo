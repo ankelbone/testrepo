{
 "cells": [
  {
   "cell_type": "markdown",
   "id": "86931883-801f-45f3-8b22-1ce5059971d6",
   "metadata": {},
   "source": [
    "# Data Science Tools and Ecosystem"
   ]
  },
  {
   "cell_type": "markdown",
   "id": "cabc925c-981b-4818-981a-716671eaddd3",
   "metadata": {},
   "source": [
    "In this notebook, Data Science Tools and Ecosystem are summarized."
   ]
  },
  {
   "cell_type": "markdown",
   "id": "fc49653a-bcb4-40d0-b25b-1784ea4caddb",
   "metadata": {},
   "source": [
    "**Objectives**: \n",
    "* List popular languages in Data Science\n",
    "* Name common libraries used in Data Science\n",
    "* List commonly used Data Science tools\n",
    "* Create an arithmetic expression using Python"
   ]
  },
  {
   "cell_type": "markdown",
   "id": "3d5bf7e4-ec86-467b-a2ac-2d63341e52b8",
   "metadata": {},
   "source": [
    "Some of the popular languages that Data Scientists use are:"
   ]
  },
  {
   "cell_type": "markdown",
   "id": "cfc1e12a-1ec8-4879-8611-a0a5af7530c3",
   "metadata": {},
   "source": [
    "1. R\n",
    "2. Python\n",
    "3. SQL\n",
    "4. Java"
   ]
  },
  {
   "cell_type": "markdown",
   "id": "28650675-851d-4c13-9323-7b045f18b316",
   "metadata": {},
   "source": [
    "Some of the commonly used libraries by Data Scientists are:"
   ]
  },
  {
   "cell_type": "markdown",
   "id": "99f4df9a-7b0f-41db-9b44-4f9e47933b61",
   "metadata": {},
   "source": [
    "1. Pandas\n",
    "2. Matplotlib\n",
    "3. Numpy\n",
    "4. Scikit-learn"
   ]
  },
  {
   "cell_type": "markdown",
   "id": "65be1f4e-f508-43b7-8f08-4b44fe206efb",
   "metadata": {},
   "source": [
    "| Data Science Tools |\n",
    "| ------------------- |\n",
    "| TensorFlow |\n",
    "| Apache Hadoop |\n",
    "| Weka |"
   ]
  },
  {
   "cell_type": "markdown",
   "id": "d0784611-ff70-447a-861e-fe77b95519d7",
   "metadata": {},
   "source": [
    "### Below are a few examples of evaluating arithmetic expressions in Python"
   ]
  },
  {
   "cell_type": "code",
   "execution_count": 4,
   "id": "6356acef-47f4-4a3d-af40-64c2be1aea36",
   "metadata": {},
   "outputs": [
    {
     "name": "stdout",
     "output_type": "stream",
     "text": [
      "17\n"
     ]
    }
   ],
   "source": [
    "# This is a simple arithmetic expression to multiply then add numbers.\n",
    "x= (3*4)+5\n",
    "print(x)"
   ]
  },
  {
   "cell_type": "code",
   "execution_count": 6,
   "id": "545771e3-eed7-4c6d-9d87-a9f34ff2af95",
   "metadata": {},
   "outputs": [
    {
     "name": "stdout",
     "output_type": "stream",
     "text": [
      "3.3333333333333335\n"
     ]
    }
   ],
   "source": [
    "# This will turn 200 minutes into hours by dividing by 60\n",
    "mth = 200/60\n",
    "print(mth)"
   ]
  },
  {
   "cell_type": "markdown",
   "id": "71719c70-6c3a-47b0-a5ad-5d25e332b4b1",
   "metadata": {},
   "source": [
    "## Author\n",
    "Manuel Montoya"
   ]
  }
 ],
 "metadata": {
  "kernelspec": {
   "display_name": "Python 3 (ipykernel)",
   "language": "python",
   "name": "python3"
  },
  "language_info": {
   "codemirror_mode": {
    "name": "ipython",
    "version": 3
   },
   "file_extension": ".py",
   "mimetype": "text/x-python",
   "name": "python",
   "nbconvert_exporter": "python",
   "pygments_lexer": "ipython3",
   "version": "3.12.8"
  }
 },
 "nbformat": 4,
 "nbformat_minor": 5
}
